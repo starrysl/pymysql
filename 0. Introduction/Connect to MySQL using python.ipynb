{
 "cells": [
  {
   "cell_type": "markdown",
   "metadata": {},
   "source": [
    "# Python + MySQL = ?\n",
    "\n",
    "In this section, we will discuss on how to connect to MySQL database using python. "
   ]
  },
  {
   "cell_type": "markdown",
   "metadata": {},
   "source": [
    "### Preparation (optional)\n",
    "If you prefer to try it on your own computer, please make sure the following packages are installed:\n",
    "1. python-dev (if you are using Mac OS X, install brew and python packages will be included)\n",
    "2. [pip](https://pip.pypa.io/en/stable/installing/)\n",
    "3. Install MySQL connector by running `sudo pip install MySQL-python`  \n",
    "If not successful, try `brew install mysql-connector-c` on Mac OS X or `sudo apt install mysql-connector-python` for Ubuntu Linux"
   ]
  },
  {
   "cell_type": "markdown",
   "metadata": {},
   "source": [
    "### Let's get started\n",
    "To import the MySQL connector in python, we need to run:"
   ]
  },
  {
   "cell_type": "code",
   "execution_count": null,
   "metadata": {},
   "outputs": [],
   "source": [
    "import MySQLdb"
   ]
  },
  {
   "cell_type": "markdown",
   "metadata": {},
   "source": [
    "\n",
    "Let's specify the constant parameters to connect to the database. Please modify them according to your settings."
   ]
  },
  {
   "cell_type": "code",
   "execution_count": null,
   "metadata": {},
   "outputs": [],
   "source": [
    "hostname = None\n",
    "username = None\n",
    "password = None\n",
    "database = 'employees'"
   ]
  },
  {
   "cell_type": "markdown",
   "metadata": {},
   "source": [
    "With all the specified parameters, now we can connect to the database using the following code:"
   ]
  },
  {
   "cell_type": "code",
   "execution_count": null,
   "metadata": {},
   "outputs": [],
   "source": [
    "myConnection = MySQLdb.connect(host=hostname, user=username, passwd=password, db=database)"
   ]
  },
  {
   "cell_type": "markdown",
   "metadata": {},
   "source": [
    "Once the connection to the database is established, we can query the database and get the query result. For example, if we want to retrieve the names of the employees from the \"`employees`\" table, we can define the query as follows:"
   ]
  },
  {
   "cell_type": "code",
   "execution_count": null,
   "metadata": {},
   "outputs": [],
   "source": [
    "myQuery =  'SELECT first_name, last_name FROM employees limit 100'"
   ]
  },
  {
   "cell_type": "markdown",
   "metadata": {},
   "source": [
    "\n",
    "In order to get the query results, we need to get the above query executed. \n",
    "\n",
    "Here we need to introduce a concept of \"`cursor`\". A database cursor is a control structure that enables traversal over the records in a database. It \"traverse\" among the database records and retrieve, update, and remove them according to the query. Therefore, in python we need to define a cursor that can execute our query "
   ]
  },
  {
   "cell_type": "code",
   "execution_count": null,
   "metadata": {},
   "outputs": [],
   "source": [
    "cur = myConnection.cursor()\n",
    "cur.execute(myQuery)"
   ]
  },
  {
   "cell_type": "markdown",
   "metadata": {},
   "source": [
    "If the query is executed successfully, all the results are stored in the `cursor` object. We can use `fetchall()` method to get all results"
   ]
  },
  {
   "cell_type": "code",
   "execution_count": null,
   "metadata": {},
   "outputs": [],
   "source": [
    "for firstname, lastname in cur.fetchall():\n",
    "    print firstname, lastname"
   ]
  },
  {
   "cell_type": "markdown",
   "metadata": {},
   "source": [
    "And all the results can be shown.\n",
    "\n",
    "We can also embed the results inside an HTML text."
   ]
  },
  {
   "cell_type": "code",
   "execution_count": null,
   "metadata": {},
   "outputs": [],
   "source": [
    "myHTML = '<html><head><h1>Employee Names</h1></head><body><table><tr><th>First Name</th><th>Last Name</th></tr>'\n",
    "\n",
    "cur = myConnection.cursor()\n",
    "cur.execute(myQuery)\n",
    "\n",
    "for firstname, lastname in cur.fetchall() :\n",
    "    myHTML = myHTML + '<tr><td>' + firstname + '</td><td>' + lastname + '</td></tr>'\n",
    "    \n",
    "myHTML += '</table></body></html>'"
   ]
  },
  {
   "cell_type": "markdown",
   "metadata": {},
   "source": [
    "The content of `myHTML` can be write to a file, which can be shown as a web page. The following python code is used to generate the file."
   ]
  },
  {
   "cell_type": "code",
   "execution_count": null,
   "metadata": {},
   "outputs": [],
   "source": [
    "f = open('emp_names.html', 'w') # Open the file and write to it. \"w\" for write mode\n",
    "f.write(myHTML)\n",
    "f.close()"
   ]
  },
  {
   "cell_type": "markdown",
   "metadata": {},
   "source": [
    "The following code is used to read the content of `emp_names.html` and display in Jupyter notebook."
   ]
  },
  {
   "cell_type": "code",
   "execution_count": null,
   "metadata": {},
   "outputs": [],
   "source": [
    "f = open('emp_names.html', 'r') # Open the file and get its contents. \"r\" for read mode\n",
    "content = f.read()\n",
    "f.close()\n",
    "from IPython.core.display import display, HTML\n",
    "display(HTML(content))"
   ]
  },
  {
   "cell_type": "code",
   "execution_count": null,
   "metadata": {},
   "outputs": [],
   "source": []
  }
 ],
 "metadata": {
  "kernelspec": {
   "display_name": "Python 2",
   "language": "python",
   "name": "python2"
  },
  "language_info": {
   "codemirror_mode": {
    "name": "ipython",
    "version": 2
   },
   "file_extension": ".py",
   "mimetype": "text/x-python",
   "name": "python",
   "nbconvert_exporter": "python",
   "pygments_lexer": "ipython2",
   "version": "2.7.10"
  }
 },
 "nbformat": 4,
 "nbformat_minor": 2
}
